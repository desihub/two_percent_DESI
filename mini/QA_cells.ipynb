{
 "cells": [
  {
   "cell_type": "markdown",
   "metadata": {},
   "source": [
    "# v3\n",
    "    Adding QA_Night"
   ]
  },
  {
   "cell_type": "code",
   "execution_count": null,
   "metadata": {},
   "outputs": [],
   "source": [
    "import os, sys, glob, time, subprocess, time\n",
    "import numpy as np\n",
    "import healpy as hp\n",
    "from astropy.table import Table\n",
    "from astropy.io import fits\n",
    "import fitsio\n",
    "\n",
    "#- Some of these are imported just to establish versions\n",
    "#- but aren't used in the notebook itself\n",
    "import desisim\n",
    "import desispec.io\n",
    "from desispec.scripts import pipe_prod\n",
    "import desitarget.io\n",
    "import desimodel.io\n",
    "import desimodel.footprint\n",
    "import desisurvey\n",
    "import surveysim\n",
    "import specsim\n",
    "#from surveysim.util import add_calibration_exposures\n",
    "import desiutil.depend\n",
    "import specter\n",
    "import redrock\n",
    "\n",
    "%pylab inline\n",
    "\n",
    "print(\"Starting at {}\".format(time.asctime()))\n",
    "start_time = time.time()"
   ]
  },
  {
   "cell_type": "code",
   "execution_count": null,
   "metadata": {},
   "outputs": [],
   "source": [
    "# New imports\n",
    "import glob"
   ]
  },
  {
   "cell_type": "code",
   "execution_count": null,
   "metadata": {},
   "outputs": [],
   "source": [
    "print('Starting at {}'.format(time.asctime()))\n",
    "print(os.environ['DESIMODULES'])\n",
    "deps = dict()\n",
    "desiutil.depend.add_dependencies(deps)\n",
    "for codename, version in desiutil.depend.iterdep(deps):\n",
    "    print('  {:10s} {}'.format(codename, version))"
   ]
  },
  {
   "cell_type": "code",
   "execution_count": null,
   "metadata": {},
   "outputs": [],
   "source": [
    "#basedir = os.path.join(os.environ['SCRATCH'], 'desi', 'dev', 'end2end')\n",
    "basedir = '/project/projectdirs/desi/datachallenge/reference_runs/17.12/'   # For my testing\n",
    "surveydir = os.environ['DESISURVEY_OUTPUT'] = os.path.join(basedir, 'survey')\n",
    "targetdir = os.path.join(basedir, 'targets')\n",
    "fibassigndir = os.path.join(basedir, 'fiberassign')\n",
    "minitestdir = os.getcwd()\n",
    "desimodules_version = os.path.basename(os.environ['DESIMODULES'])\n",
    "\n",
    "os.environ['DESI_SPECTRO_REDUX'] = os.path.join(basedir, 'spectro', 'redux')\n",
    "os.environ['DESI_SPECTRO_SIM'] = os.path.join(basedir, 'spectro', 'sim')\n",
    "os.environ['PIXPROD'] = 'mini'\n",
    "os.environ['SPECPROD'] = 'mini'\n",
    "\n",
    "reduxdir = os.path.join(os.environ['DESI_SPECTRO_REDUX'], os.environ['SPECPROD'])\n",
    "simdatadir = os.path.join(os.environ['DESI_SPECTRO_SIM'], os.environ['PIXPROD'])\n",
    "os.environ['DESI_SPECTRO_DATA'] = simdatadir\n",
    "\n",
    "#\n",
    "\n",
    "os.makedirs(surveydir, exist_ok=True)\n",
    "os.makedirs(targetdir, exist_ok=True)\n",
    "os.makedirs(fibassigndir, exist_ok=True)\n",
    "os.makedirs(reduxdir, exist_ok=True)\n",
    "os.makedirs(simdatadir, exist_ok=True)\n",
    "\n",
    "if 'csh' in os.environ['SHELL']:\n",
    "    envcmd = \"source /project/projectdirs/desi/software/desi_environment.csh {}\".format(desimodules_version)\n",
    "    envcmd += \"\"\"\n",
    "set basedir = ${SCRATCH}/desi/dev/end2end\n",
    "setenv DESISURVEY_OUTPUT ${basedir}/survey\n",
    "setenv DESI_SPECTRO_REDUX ${basedir}/spectro/redux\n",
    "setenv DESI_SPECTRO_SIM ${basedir}/spectro/sim\n",
    "setenv SPECPROD mini\n",
    "setenv PIXPROD mini\n",
    "setenv DESI_SPECTRO_DATA ${DESI_SPECTRO_SIM}/${PIXPROD}\n",
    "\"\"\"\n",
    "else:\n",
    "    envcmd = \"source /project/projectdirs/desi/software/desi_environment.sh {}\".format(desimodules_version)\n",
    "    envcmd += \"\"\"\n",
    "basedir=${SCRATCH}/desi/dev/end2end\n",
    "export DESISURVEY_OUTPUT=${basedir}/survey\n",
    "export DESI_SPECTRO_REDUX=${basedir}/spectro/redux\n",
    "export DESI_SPECTRO_SIM=${basedir}/spectro/sim\n",
    "export SPECPROD=mini\n",
    "export PIXPROD=mini\n",
    "export DESI_SPECTRO_DATA=${DESI_SPECTRO_SIM}/${PIXPROD}\n",
    "\"\"\"\n",
    "print('To recreate this environment from a login terminal:\\n')\n",
    "print(envcmd)"
   ]
  },
  {
   "cell_type": "code",
   "execution_count": null,
   "metadata": {},
   "outputs": [],
   "source": [
    "# New dir to define and make\n",
    "qadir = desispec.io.qaprod_root()\n",
    "os.makedirs(qadir, exist_ok=True)\n",
    "qadir"
   ]
  },
  {
   "cell_type": "markdown",
   "metadata": {},
   "source": [
    "## QA Production"
   ]
  },
  {
   "cell_type": "markdown",
   "metadata": {},
   "source": [
    "### QA without needing the Truth"
   ]
  },
  {
   "cell_type": "code",
   "execution_count": null,
   "metadata": {},
   "outputs": [],
   "source": [
    "glob.glob(qadir+'/skyresid_prod_gauss*')"
   ]
  },
  {
   "cell_type": "code",
   "execution_count": null,
   "metadata": {},
   "outputs": [],
   "source": [
    "qant_logname = os.path.join(qadir, 'qa_notruth.log')"
   ]
  },
  {
   "cell_type": "markdown",
   "metadata": {},
   "source": [
    "### Run"
   ]
  },
  {
   "cell_type": "code",
   "execution_count": null,
   "metadata": {},
   "outputs": [],
   "source": [
    "# Generate the QA (if it doesn't exist already)\n",
    "with open(qant_logname, 'w') as logfile:\n",
    "    \n",
    "    if os.path.exists(qadir+'/'+os.environ['SPECPROD']+'_qa.json'):\n",
    "        print(\"Skipping generating full prod QA file\")\n",
    "    else:\n",
    "        # Generate yaml files and figures (~30min)\n",
    "        cmd = \"desi_qa_prod --make_frameqa=3 --clobber\"  \n",
    "        err = subprocess.call(cmd.split(), stdout=logfile, stderr=logfile)\n",
    "        assert err == 0\n",
    "\n",
    "        # Slurp (fast)\n",
    "        cmd = \"desi_qa_prod --slurp\"  \n",
    "        err = subprocess.call(cmd.split(), stdout=logfile, stderr=logfile)\n",
    "        assert err == 0\n",
    "    \n",
    "    # Skyresid (~25min for the two)\n",
    "    if len(glob.glob(qadir+'/skyresid_prod_dual*')) == 3:\n",
    "        print(\"Skipping generating SkyResid figures\")\n",
    "    else:\n",
    "        cmd = \"desi_qa_skyresid --prod\"  \n",
    "        err = subprocess.call(cmd.split(), stdout=logfile, stderr=logfile)\n",
    "        assert err == 0\n",
    "        #pass\n",
    "    if len(glob.glob(qadir+'/skyresid_prod_gauss*')) == 3:\n",
    "        print(\"Skipping generating SkyResid Gaussianity figures\")\n",
    "    else:    \n",
    "        cmd = \"desi_qa_skyresid --gauss\"  \n",
    "        err = subprocess.call(cmd.split(), stdout=logfile, stderr=logfile)\n",
    "        assert err == 0\n",
    "    \n",
    "    # HTML\n",
    "    cmd = \"desi_qa_prod --html\"\n",
    "    err = subprocess.call(cmd.split(), stdout=logfile, stderr=logfile)\n",
    "    assert err == 0\n",
    "    \n",
    "# Time me\n",
    "print(\"Done with QA without truth at {}\".format(time.asctime()))\n",
    "qa1_time = time.time() - start_time\n",
    "print(\"That took {:.1f} minutes\".format(qa1_time/60))"
   ]
  },
  {
   "cell_type": "markdown",
   "metadata": {},
   "source": [
    "### Check"
   ]
  },
  {
   "cell_type": "code",
   "execution_count": null,
   "metadata": {},
   "outputs": [],
   "source": [
    "# JSON file\n",
    "prod_qa = desispec.io.qa.load_qa_multiexp(qadir+'/'+os.environ['SPECPROD']+'_qa')\n",
    "assert isinstance(prod_qa, dict)\n",
    "assert len(prod_qa.keys()) == 4\n",
    "# PNGs\n",
    "assert len(glob.glob(qadir+'/skyresid_prod_dual*')) == 3\n",
    "assert len(glob.glob(qadir+'/skyresid_prod_gauss*')) == 3\n",
    "# HTML\n",
    "assert os.path.exists(qadir+'/qa-toplevel.html')"
   ]
  },
  {
   "cell_type": "markdown",
   "metadata": {},
   "source": [
    "### Show"
   ]
  },
  {
   "cell_type": "code",
   "execution_count": null,
   "metadata": {},
   "outputs": [],
   "source": [
    "from IPython.display import Image\n",
    "Image(filename=qadir+'/skyresid_prod_dual_r.png') "
   ]
  },
  {
   "cell_type": "markdown",
   "metadata": {},
   "source": [
    "### QA with the Truth"
   ]
  },
  {
   "cell_type": "code",
   "execution_count": null,
   "metadata": {},
   "outputs": [],
   "source": [
    "qat_logname = os.path.join(qadir, 'qa_truth.log')"
   ]
  },
  {
   "cell_type": "code",
   "execution_count": null,
   "metadata": {},
   "outputs": [],
   "source": [
    "with open(qat_logname, 'w') as logfile:\n",
    "\n",
    "    if len(glob.glob(qadir+'/QA_s2n_*')) == 10:\n",
    "        print(\"S/N figures already exist\")\n",
    "    else:\n",
    "        # S/N (~7min)\n",
    "        cmd = \"desi_qa_s2n\"  \n",
    "        err = subprocess.call(cmd.split(), stdout=logfile, stderr=logfile)\n",
    "        assert err == 0\n",
    "    \n",
    "    # zfind (~2min)\n",
    "    if (len(glob.glob(qadir+'/QA_zfind_*')) == 6) and os.path.exists(qadir+'/QA_dzsumm.png'):\n",
    "        print(\"zfind figures already exist\")\n",
    "    else:\n",
    "        cmd = \"desi_qa_zfind\"  \n",
    "        err = subprocess.call(cmd.split(), stdout=logfile, stderr=logfile)\n",
    "        assert err == 0\n",
    "    \n",
    "    # HTML\n",
    "    cmd = \"desi_qa_prod --html\"\n",
    "    err = subprocess.call(cmd.split(), stdout=logfile, stderr=logfile)\n",
    "    assert err == 0\n",
    "    \n",
    "# Time me\n",
    "print(\"Done with QA with truth at {}\".format(time.asctime()))\n",
    "qa2_time = time.time() - start_time\n",
    "print(\"That took {:.1f} additional minutes\".format((qa2_time-qa1_time)/60))"
   ]
  },
  {
   "cell_type": "markdown",
   "metadata": {},
   "source": [
    "### Check"
   ]
  },
  {
   "cell_type": "code",
   "execution_count": null,
   "metadata": {},
   "outputs": [],
   "source": [
    "assert len(glob.glob(qadir+'/QA_s2n_*')) == 10\n",
    "assert len(glob.glob(qadir+'/QA_zfind_*')) == 6\n",
    "assert os.path.exists(qadir+'/QA_dzsumm.png')"
   ]
  },
  {
   "cell_type": "markdown",
   "metadata": {},
   "source": [
    "### Show"
   ]
  },
  {
   "cell_type": "code",
   "execution_count": null,
   "metadata": {},
   "outputs": [],
   "source": [
    "Image(filename=qadir+'/QA_dzsumm.png') "
   ]
  },
  {
   "cell_type": "code",
   "execution_count": null,
   "metadata": {},
   "outputs": [],
   "source": [
    "Image(filename=qadir+'/QA_zfind_ELG.png') "
   ]
  },
  {
   "cell_type": "markdown",
   "metadata": {},
   "source": [
    "## QA Night"
   ]
  },
  {
   "cell_type": "markdown",
   "metadata": {},
   "source": [
    "### Generate"
   ]
  },
  {
   "cell_type": "code",
   "execution_count": null,
   "metadata": {},
   "outputs": [],
   "source": [
    "from desispec.qa import QA_Night\n",
    "qanight = QA_Night('20200318')\n",
    "qanight.slurp(remove=False)\n",
    "qanight.write_qa_exposures()"
   ]
  },
  {
   "cell_type": "markdown",
   "metadata": {},
   "source": [
    "### Check"
   ]
  },
  {
   "cell_type": "code",
   "execution_count": null,
   "metadata": {},
   "outputs": [],
   "source": [
    "night_qa = glob.glob(qadir+'/20200318_qa.json')\n",
    "assert len(night_qa) == 1"
   ]
  },
  {
   "cell_type": "markdown",
   "metadata": {},
   "source": [
    "## End"
   ]
  },
  {
   "cell_type": "code",
   "execution_count": null,
   "metadata": {},
   "outputs": [],
   "source": [
    "print(\"Done done at {}\".format(time.asctime()))\n",
    "run_time = time.time() - start_time\n",
    "print(\"That took {:.1f} minutes\".format(run_time/60))"
   ]
  },
  {
   "cell_type": "code",
   "execution_count": null,
   "metadata": {},
   "outputs": [],
   "source": []
  }
 ],
 "metadata": {
  "kernelspec": {
   "display_name": "DESI 17.12",
   "language": "python",
   "name": "desi-17.12"
  },
  "language_info": {
   "codemirror_mode": {
    "name": "ipython",
    "version": 3
   },
   "file_extension": ".py",
   "mimetype": "text/x-python",
   "name": "python",
   "nbconvert_exporter": "python",
   "pygments_lexer": "ipython3",
   "version": "3.5.3"
  }
 },
 "nbformat": 4,
 "nbformat_minor": 2
}
